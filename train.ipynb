{
 "cells": [
  {
   "cell_type": "code",
   "execution_count": null,
   "metadata": {},
   "outputs": [],
   "source": [
    "from utils.models import get_processor_and_model,train_with_lora\n",
    "from utils.datasets import load_dataset"
   ]
  },
  {
   "cell_type": "code",
   "execution_count": null,
   "metadata": {},
   "outputs": [],
   "source": [
    "dataset = load_dataset(\"ybelkada/football-dataset\", split=\"train\")"
   ]
  },
  {
   "cell_type": "code",
   "execution_count": null,
   "metadata": {},
   "outputs": [],
   "source": [
    "device_map = {'language_model':\"cuda\",\\\n",
    "\t'language_projection':'cpu', \\\n",
    "\t'qformer':'cpu', \\\n",
    "\t'query_tokens':'cpu', \\\n",
    "\t'vision_model':'cpu'}\n",
    "modelpath=r\"C:\\Users\\17612\\Desktop\\course-management\\AIGC\\img2text\"\n",
    "processor,model=get_processor_and_model(modelpath=modelpath,device_map=device_map)"
   ]
  },
  {
   "cell_type": "code",
   "execution_count": null,
   "metadata": {},
   "outputs": [],
   "source": [
    "train_with_lora(model=model,dataset=dataset,processor=processor)"
   ]
  }
 ],
 "metadata": {
  "kernelspec": {
   "display_name": "AIGC",
   "language": "python",
   "name": "python3"
  },
  "language_info": {
   "codemirror_mode": {
    "name": "ipython",
    "version": 3
   },
   "file_extension": ".py",
   "mimetype": "text/x-python",
   "name": "python",
   "nbconvert_exporter": "python",
   "pygments_lexer": "ipython3",
   "version": "3.10.13"
  }
 },
 "nbformat": 4,
 "nbformat_minor": 2
}
